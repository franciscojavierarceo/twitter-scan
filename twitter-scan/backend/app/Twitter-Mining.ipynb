{
 "cells": [
  {
   "cell_type": "code",
   "execution_count": 2,
   "id": "elegant-atlanta",
   "metadata": {},
   "outputs": [
    {
     "name": "stdout",
     "output_type": "stream",
     "text": [
      "Collecting tweepy\n",
      "  Downloading tweepy-3.10.0-py2.py3-none-any.whl (30 kB)\n",
      "Requirement already satisfied: requests[socks]>=2.11.1 in /usr/local/lib/python3.7/site-packages (from tweepy) (2.25.1)\n",
      "Collecting requests-oauthlib>=0.7.0\n",
      "  Downloading requests_oauthlib-1.3.0-py2.py3-none-any.whl (23 kB)\n",
      "Requirement already satisfied: six>=1.10.0 in /usr/local/lib/python3.7/site-packages (from tweepy) (1.15.0)\n",
      "Requirement already satisfied: urllib3<1.27,>=1.21.1 in /usr/local/lib/python3.7/site-packages (from requests[socks]>=2.11.1->tweepy) (1.26.4)\n",
      "Requirement already satisfied: idna<3,>=2.5 in /usr/local/lib/python3.7/site-packages (from requests[socks]>=2.11.1->tweepy) (2.10)\n",
      "Requirement already satisfied: chardet<5,>=3.0.2 in /usr/local/lib/python3.7/site-packages (from requests[socks]>=2.11.1->tweepy) (4.0.0)\n",
      "Requirement already satisfied: certifi>=2017.4.17 in /usr/local/lib/python3.7/site-packages (from requests[socks]>=2.11.1->tweepy) (2020.12.5)\n",
      "Collecting PySocks!=1.5.7,>=1.5.6; extra == \"socks\"\n",
      "  Downloading PySocks-1.7.1-py3-none-any.whl (16 kB)\n",
      "Collecting oauthlib>=3.0.0\n",
      "  Downloading oauthlib-3.1.0-py2.py3-none-any.whl (147 kB)\n",
      "\u001b[K     |████████████████████████████████| 147 kB 1.4 MB/s eta 0:00:01\n",
      "\u001b[?25hInstalling collected packages: oauthlib, requests-oauthlib, tweepy, PySocks\n",
      "Successfully installed PySocks-1.7.1 oauthlib-3.1.0 requests-oauthlib-1.3.0 tweepy-3.10.0\n",
      "\u001b[33mWARNING: You are using pip version 20.0.2; however, version 21.0.1 is available.\n",
      "You should consider upgrading via the '/usr/local/bin/python -m pip install --upgrade pip' command.\u001b[0m\n",
      "Collecting numpy\n",
      "  Downloading numpy-1.20.1-cp37-cp37m-manylinux2010_x86_64.whl (15.3 MB)\n",
      "\u001b[K     |████████████████████████████████| 15.3 MB 1.2 MB/s eta 0:00:01\n",
      "\u001b[?25hInstalling collected packages: numpy\n",
      "Successfully installed numpy-1.20.1\n",
      "\u001b[33mWARNING: You are using pip version 20.0.2; however, version 21.0.1 is available.\n",
      "You should consider upgrading via the '/usr/local/bin/python -m pip install --upgrade pip' command.\u001b[0m\n",
      "Collecting pandas\n",
      "  Downloading pandas-1.2.3-cp37-cp37m-manylinux1_x86_64.whl (9.9 MB)\n",
      "\u001b[K     |████████████████████████████████| 9.9 MB 1.7 MB/s eta 0:00:01     |██████████████▉                 | 4.6 MB 1.5 MB/s eta 0:00:04\n",
      "\u001b[?25hRequirement already satisfied: numpy>=1.16.5 in /usr/local/lib/python3.7/site-packages (from pandas) (1.20.1)\n",
      "Requirement already satisfied: python-dateutil>=2.7.3 in /usr/local/lib/python3.7/site-packages (from pandas) (2.8.1)\n",
      "Requirement already satisfied: pytz>=2017.3 in /usr/local/lib/python3.7/site-packages (from pandas) (2021.1)\n",
      "Requirement already satisfied: six>=1.5 in /usr/local/lib/python3.7/site-packages (from python-dateutil>=2.7.3->pandas) (1.15.0)\n",
      "Installing collected packages: pandas\n",
      "Successfully installed pandas-1.2.3\n",
      "\u001b[33mWARNING: You are using pip version 20.0.2; however, version 21.0.1 is available.\n",
      "You should consider upgrading via the '/usr/local/bin/python -m pip install --upgrade pip' command.\u001b[0m\n"
     ]
    }
   ],
   "source": [
    "! pip install tweepy\n",
    "! pip install numpy\n",
    "! pip install pandas"
   ]
  },
  {
   "cell_type": "code",
   "execution_count": 3,
   "id": "attached-scientist",
   "metadata": {},
   "outputs": [],
   "source": [
    "import os\n",
    "import tweepy\n",
    "import numpy as np\n",
    "import pandas as pd"
   ]
  },
  {
   "cell_type": "code",
   "execution_count": 5,
   "id": "painful-banks",
   "metadata": {},
   "outputs": [],
   "source": [
    "TWITTER_API_KEY = os.environ.get('TWITTER_API_KEY')\n",
    "TWITTER_API_SECRET = os.environ.get('TWITTER_API_SECRET')"
   ]
  },
  {
   "cell_type": "code",
   "execution_count": 6,
   "id": "agricultural-character",
   "metadata": {},
   "outputs": [],
   "source": [
    "auth = tweepy.OAuthHandler(TWITTER_API_KEY, TWITTER_API_SECRET)"
   ]
  },
  {
   "cell_type": "code",
   "execution_count": 7,
   "id": "improved-gibson",
   "metadata": {},
   "outputs": [],
   "source": [
    "api = tweepy.API(auth)"
   ]
  },
  {
   "cell_type": "code",
   "execution_count": 8,
   "id": "legislative-observer",
   "metadata": {},
   "outputs": [],
   "source": [
    "tp = api.get_user('franciscojarceo')"
   ]
  },
  {
   "cell_type": "code",
   "execution_count": 9,
   "id": "derived-hawaii",
   "metadata": {
    "tags": []
   },
   "outputs": [
    {
     "data": {
      "text/plain": [
       "{'id': 1145326260341682176,\n",
       " 'id_str': '1145326260341682176',\n",
       " 'name': 'Francisco Javier Arceo',\n",
       " 'screen_name': 'franciscojarceo',\n",
       " 'location': 'USA',\n",
       " 'profile_location': None,\n",
       " 'description': 'Building the @fast-est data science on the internet. \\n\\nPreviously @GoldmanSachs @CommBank @AIG. Alum @Columbia Engineering.',\n",
       " 'url': 'https://t.co/jCS8iVUQAA',\n",
       " 'entities': {'url': {'urls': [{'url': 'https://t.co/jCS8iVUQAA',\n",
       "     'expanded_url': 'https://franciscojavierarceo.github.io/',\n",
       "     'display_url': 'franciscojavierarceo.github.io',\n",
       "     'indices': [0, 23]}]},\n",
       "  'description': {'urls': []}},\n",
       " 'protected': False,\n",
       " 'followers_count': 1189,\n",
       " 'friends_count': 3159,\n",
       " 'listed_count': 17,\n",
       " 'created_at': 'Sun Jun 30 13:40:34 +0000 2019',\n",
       " 'favourites_count': 24152,\n",
       " 'utc_offset': None,\n",
       " 'time_zone': None,\n",
       " 'geo_enabled': True,\n",
       " 'verified': False,\n",
       " 'statuses_count': 8143,\n",
       " 'lang': None,\n",
       " 'status': {'created_at': 'Fri Mar 26 11:19:57 +0000 2021',\n",
       "  'id': 1375407167998734337,\n",
       "  'id_str': '1375407167998734337',\n",
       "  'text': 'RT @ProfFeynman: https://t.co/oA9BlB5NqO',\n",
       "  'truncated': False,\n",
       "  'entities': {'hashtags': [],\n",
       "   'symbols': [],\n",
       "   'user_mentions': [{'screen_name': 'ProfFeynman',\n",
       "     'name': 'Richard Feynman',\n",
       "     'id': 823518894182846464,\n",
       "     'id_str': '823518894182846464',\n",
       "     'indices': [3, 15]}],\n",
       "   'urls': [],\n",
       "   'media': [{'id': 1375286261523472389,\n",
       "     'id_str': '1375286261523472389',\n",
       "     'indices': [17, 40],\n",
       "     'media_url': 'http://pbs.twimg.com/media/ExX_kXqU4AUW8TD.jpg',\n",
       "     'media_url_https': 'https://pbs.twimg.com/media/ExX_kXqU4AUW8TD.jpg',\n",
       "     'url': 'https://t.co/oA9BlB5NqO',\n",
       "     'display_url': 'pic.twitter.com/oA9BlB5NqO',\n",
       "     'expanded_url': 'https://twitter.com/ProfFeynman/status/1375286264258125829/photo/1',\n",
       "     'type': 'photo',\n",
       "     'sizes': {'thumb': {'w': 150, 'h': 150, 'resize': 'crop'},\n",
       "      'medium': {'w': 720, 'h': 720, 'resize': 'fit'},\n",
       "      'small': {'w': 680, 'h': 680, 'resize': 'fit'},\n",
       "      'large': {'w': 720, 'h': 720, 'resize': 'fit'}},\n",
       "     'source_status_id': 1375286264258125829,\n",
       "     'source_status_id_str': '1375286264258125829',\n",
       "     'source_user_id': 823518894182846464,\n",
       "     'source_user_id_str': '823518894182846464'}]},\n",
       "  'extended_entities': {'media': [{'id': 1375286261523472389,\n",
       "     'id_str': '1375286261523472389',\n",
       "     'indices': [17, 40],\n",
       "     'media_url': 'http://pbs.twimg.com/media/ExX_kXqU4AUW8TD.jpg',\n",
       "     'media_url_https': 'https://pbs.twimg.com/media/ExX_kXqU4AUW8TD.jpg',\n",
       "     'url': 'https://t.co/oA9BlB5NqO',\n",
       "     'display_url': 'pic.twitter.com/oA9BlB5NqO',\n",
       "     'expanded_url': 'https://twitter.com/ProfFeynman/status/1375286264258125829/photo/1',\n",
       "     'type': 'photo',\n",
       "     'sizes': {'thumb': {'w': 150, 'h': 150, 'resize': 'crop'},\n",
       "      'medium': {'w': 720, 'h': 720, 'resize': 'fit'},\n",
       "      'small': {'w': 680, 'h': 680, 'resize': 'fit'},\n",
       "      'large': {'w': 720, 'h': 720, 'resize': 'fit'}},\n",
       "     'source_status_id': 1375286264258125829,\n",
       "     'source_status_id_str': '1375286264258125829',\n",
       "     'source_user_id': 823518894182846464,\n",
       "     'source_user_id_str': '823518894182846464'}]},\n",
       "  'source': '<a href=\"http://twitter.com/download/iphone\" rel=\"nofollow\">Twitter for iPhone</a>',\n",
       "  'in_reply_to_status_id': None,\n",
       "  'in_reply_to_status_id_str': None,\n",
       "  'in_reply_to_user_id': None,\n",
       "  'in_reply_to_user_id_str': None,\n",
       "  'in_reply_to_screen_name': None,\n",
       "  'geo': None,\n",
       "  'coordinates': None,\n",
       "  'place': None,\n",
       "  'contributors': None,\n",
       "  'retweeted_status': {'created_at': 'Fri Mar 26 03:19:31 +0000 2021',\n",
       "   'id': 1375286264258125829,\n",
       "   'id_str': '1375286264258125829',\n",
       "   'text': 'https://t.co/oA9BlB5NqO',\n",
       "   'truncated': False,\n",
       "   'entities': {'hashtags': [],\n",
       "    'symbols': [],\n",
       "    'user_mentions': [],\n",
       "    'urls': [],\n",
       "    'media': [{'id': 1375286261523472389,\n",
       "      'id_str': '1375286261523472389',\n",
       "      'indices': [0, 23],\n",
       "      'media_url': 'http://pbs.twimg.com/media/ExX_kXqU4AUW8TD.jpg',\n",
       "      'media_url_https': 'https://pbs.twimg.com/media/ExX_kXqU4AUW8TD.jpg',\n",
       "      'url': 'https://t.co/oA9BlB5NqO',\n",
       "      'display_url': 'pic.twitter.com/oA9BlB5NqO',\n",
       "      'expanded_url': 'https://twitter.com/ProfFeynman/status/1375286264258125829/photo/1',\n",
       "      'type': 'photo',\n",
       "      'sizes': {'thumb': {'w': 150, 'h': 150, 'resize': 'crop'},\n",
       "       'medium': {'w': 720, 'h': 720, 'resize': 'fit'},\n",
       "       'small': {'w': 680, 'h': 680, 'resize': 'fit'},\n",
       "       'large': {'w': 720, 'h': 720, 'resize': 'fit'}}}]},\n",
       "   'extended_entities': {'media': [{'id': 1375286261523472389,\n",
       "      'id_str': '1375286261523472389',\n",
       "      'indices': [0, 23],\n",
       "      'media_url': 'http://pbs.twimg.com/media/ExX_kXqU4AUW8TD.jpg',\n",
       "      'media_url_https': 'https://pbs.twimg.com/media/ExX_kXqU4AUW8TD.jpg',\n",
       "      'url': 'https://t.co/oA9BlB5NqO',\n",
       "      'display_url': 'pic.twitter.com/oA9BlB5NqO',\n",
       "      'expanded_url': 'https://twitter.com/ProfFeynman/status/1375286264258125829/photo/1',\n",
       "      'type': 'photo',\n",
       "      'sizes': {'thumb': {'w': 150, 'h': 150, 'resize': 'crop'},\n",
       "       'medium': {'w': 720, 'h': 720, 'resize': 'fit'},\n",
       "       'small': {'w': 680, 'h': 680, 'resize': 'fit'},\n",
       "       'large': {'w': 720, 'h': 720, 'resize': 'fit'}}}]},\n",
       "   'source': '<a href=\"http://twitter.com/download/android\" rel=\"nofollow\">Twitter for Android</a>',\n",
       "   'in_reply_to_status_id': None,\n",
       "   'in_reply_to_status_id_str': None,\n",
       "   'in_reply_to_user_id': None,\n",
       "   'in_reply_to_user_id_str': None,\n",
       "   'in_reply_to_screen_name': None,\n",
       "   'geo': None,\n",
       "   'coordinates': None,\n",
       "   'place': None,\n",
       "   'contributors': None,\n",
       "   'is_quote_status': False,\n",
       "   'retweet_count': 1494,\n",
       "   'favorite_count': 7717,\n",
       "   'favorited': False,\n",
       "   'retweeted': False,\n",
       "   'possibly_sensitive': False,\n",
       "   'lang': 'und'},\n",
       "  'is_quote_status': False,\n",
       "  'retweet_count': 1494,\n",
       "  'favorite_count': 0,\n",
       "  'favorited': False,\n",
       "  'retweeted': False,\n",
       "  'possibly_sensitive': False,\n",
       "  'lang': 'und'},\n",
       " 'contributors_enabled': False,\n",
       " 'is_translator': False,\n",
       " 'is_translation_enabled': False,\n",
       " 'profile_background_color': '000000',\n",
       " 'profile_background_image_url': 'http://abs.twimg.com/images/themes/theme1/bg.png',\n",
       " 'profile_background_image_url_https': 'https://abs.twimg.com/images/themes/theme1/bg.png',\n",
       " 'profile_background_tile': False,\n",
       " 'profile_image_url': 'http://pbs.twimg.com/profile_images/1289577905069207553/CY_ZOsvj_normal.jpg',\n",
       " 'profile_image_url_https': 'https://pbs.twimg.com/profile_images/1289577905069207553/CY_ZOsvj_normal.jpg',\n",
       " 'profile_banner_url': 'https://pbs.twimg.com/profile_banners/1145326260341682176/1615752868',\n",
       " 'profile_link_color': '1B95E0',\n",
       " 'profile_sidebar_border_color': '000000',\n",
       " 'profile_sidebar_fill_color': '000000',\n",
       " 'profile_text_color': '000000',\n",
       " 'profile_use_background_image': False,\n",
       " 'has_extended_profile': True,\n",
       " 'default_profile': False,\n",
       " 'default_profile_image': False,\n",
       " 'following': None,\n",
       " 'follow_request_sent': None,\n",
       " 'notifications': None,\n",
       " 'translator_type': 'none'}"
      ]
     },
     "execution_count": 9,
     "metadata": {},
     "output_type": "execute_result"
    }
   ],
   "source": [
    "tp._json"
   ]
  },
  {
   "cell_type": "code",
   "execution_count": 10,
   "id": "serial-vessel",
   "metadata": {},
   "outputs": [],
   "source": [
    "def get_all_tweets(screen_name):\n",
    "    #initialize a list to hold all the tweepy Tweets\n",
    "    alltweets = []  \n",
    "\n",
    "    #make initial request for most recent tweets (200 is the maximum allowed count)\n",
    "    new_tweets = api.user_timeline(screen_name = screen_name, count=200)\n",
    "\n",
    "    #save most recent tweets\n",
    "    alltweets.extend(new_tweets)\n",
    "\n",
    "    #save the id of the oldest tweet less one\n",
    "    oldest = alltweets[-1].id - 1\n",
    "\n",
    "    #keep grabbing tweets until there are no tweets left to grab\n",
    "    while len(new_tweets) > 0:\n",
    "        print(f\"getting tweets before {oldest}\")\n",
    "        #all subsiquent requests use the max_id param to prevent duplicates\n",
    "        new_tweets = api.user_timeline(screen_name = screen_name,count=200, max_id=oldest)\n",
    "        #save most recent tweets\n",
    "        alltweets.extend(new_tweets)\n",
    "        #update the id of the oldest tweet less one\n",
    "        oldest = alltweets[-1].id - 1\n",
    "        print(f\"...{len(alltweets)} tweets downloaded so far\")\n",
    "\n",
    "    return alltweets"
   ]
  },
  {
   "cell_type": "code",
   "execution_count": 11,
   "id": "proprietary-amplifier",
   "metadata": {},
   "outputs": [
    {
     "name": "stdout",
     "output_type": "stream",
     "text": [
      "getting tweets before 1367559747474501636\n",
      "...395 tweets downloaded so far\n",
      "getting tweets before 1364255309825413119\n",
      "...593 tweets downloaded so far\n",
      "getting tweets before 1360359218071695364\n",
      "...793 tweets downloaded so far\n",
      "getting tweets before 1358166987424292864\n",
      "...989 tweets downloaded so far\n",
      "getting tweets before 1355135491046313984\n",
      "...1189 tweets downloaded so far\n",
      "getting tweets before 1353728150837014531\n",
      "...1387 tweets downloaded so far\n",
      "getting tweets before 1352016044597125119\n",
      "...1586 tweets downloaded so far\n",
      "getting tweets before 1349845689065418752\n",
      "...1786 tweets downloaded so far\n",
      "getting tweets before 1348676065875656704\n",
      "...1983 tweets downloaded so far\n",
      "getting tweets before 1346868068388122626\n",
      "...2183 tweets downloaded so far\n",
      "getting tweets before 1343972297644773375\n",
      "...2383 tweets downloaded so far\n",
      "getting tweets before 1341736022170726399\n",
      "...2583 tweets downloaded so far\n",
      "getting tweets before 1339965273357443071\n",
      "...2783 tweets downloaded so far\n",
      "getting tweets before 1337258935716233215\n",
      "...2982 tweets downloaded so far\n",
      "getting tweets before 1334350309334740992\n",
      "...3173 tweets downloaded so far\n",
      "getting tweets before 1331961774736719871\n",
      "...3223 tweets downloaded so far\n",
      "getting tweets before 1330925134262063104\n",
      "...3223 tweets downloaded so far\n"
     ]
    }
   ],
   "source": [
    "mytweets = get_all_tweets('franciscojarceo')"
   ]
  },
  {
   "cell_type": "code",
   "execution_count": 12,
   "id": "superb-salon",
   "metadata": {},
   "outputs": [
    {
     "data": {
      "text/plain": [
       "1375276847668285440"
      ]
     },
     "execution_count": 12,
     "metadata": {},
     "output_type": "execute_result"
    }
   ],
   "source": [
    "mytweets[2]._json['in_reply_to_status_id']"
   ]
  },
  {
   "cell_type": "code",
   "execution_count": 13,
   "id": "responsible-jackson",
   "metadata": {},
   "outputs": [],
   "source": [
    "mytweets[1]._json['in_reply_to_status_id']"
   ]
  },
  {
   "cell_type": "code",
   "execution_count": 14,
   "id": "deadly-instrumentation",
   "metadata": {},
   "outputs": [
    {
     "data": {
      "text/plain": [
       "1375294255443320838"
      ]
     },
     "execution_count": 14,
     "metadata": {},
     "output_type": "execute_result"
    }
   ],
   "source": [
    "mytweets[1]._json['id'] #['text']"
   ]
  },
  {
   "cell_type": "code",
   "execution_count": 15,
   "id": "raising-story",
   "metadata": {},
   "outputs": [
    {
     "data": {
      "text/plain": [
       "True"
      ]
     },
     "execution_count": 15,
     "metadata": {},
     "output_type": "execute_result"
    }
   ],
   "source": [
    "'in_reply_to_status_id' in mytweets[1]._json"
   ]
  },
  {
   "cell_type": "code",
   "execution_count": 16,
   "id": "rational-worker",
   "metadata": {},
   "outputs": [],
   "source": [
    "res = []\n",
    "for i in mytweets:\n",
    "    if i._json['in_reply_to_status_id'] is not None:\n",
    "        res.append((i._json['id'], i._json['text']))"
   ]
  },
  {
   "cell_type": "code",
   "execution_count": 17,
   "id": "herbal-microwave",
   "metadata": {},
   "outputs": [
    {
     "data": {
      "text/plain": [
       "[(1375277503007318020, 'i ate 2 sleeves 😂😂😂😭😭😭'),\n",
       " (1375275248141090816,\n",
       "  '@zevdatascience @ecologyofgavin @DhruvChandAgga1 lmaooooo'),\n",
       " (1375201505863725061, '@iamjakestream cc @brunoswerneck'),\n",
       " (1375195927380697093, '@MAustin4249 https://t.co/NVo5wSAvu6')]"
      ]
     },
     "execution_count": 17,
     "metadata": {},
     "output_type": "execute_result"
    }
   ],
   "source": [
    "res[0:4]"
   ]
  }
 ],
 "metadata": {
  "kernelspec": {
   "display_name": "Python 3",
   "language": "python",
   "name": "python3"
  },
  "language_info": {
   "codemirror_mode": {
    "name": "ipython",
    "version": 3
   },
   "file_extension": ".py",
   "mimetype": "text/x-python",
   "name": "python",
   "nbconvert_exporter": "python",
   "pygments_lexer": "ipython3",
   "version": "3.7.7"
  }
 },
 "nbformat": 4,
 "nbformat_minor": 5
}
