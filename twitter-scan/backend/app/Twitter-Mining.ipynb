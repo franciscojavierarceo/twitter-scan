{
 "cells": [
  {
   "cell_type": "code",
   "execution_count": 20,
   "id": "continuing-oasis",
   "metadata": {},
   "outputs": [
    {
     "name": "stdout",
     "output_type": "stream",
     "text": [
      "Requirement already satisfied: tweepy in /usr/local/lib/python3.7/site-packages (3.10.0)\n",
      "Requirement already satisfied: requests[socks]>=2.11.1 in /usr/local/lib/python3.7/site-packages (from tweepy) (2.25.1)\n",
      "Requirement already satisfied: six>=1.10.0 in /usr/local/lib/python3.7/site-packages (from tweepy) (1.15.0)\n",
      "Requirement already satisfied: requests-oauthlib>=0.7.0 in /usr/local/lib/python3.7/site-packages (from tweepy) (1.3.0)\n",
      "Requirement already satisfied: certifi>=2017.4.17 in /usr/local/lib/python3.7/site-packages (from requests[socks]>=2.11.1->tweepy) (2020.12.5)\n",
      "Requirement already satisfied: chardet<5,>=3.0.2 in /usr/local/lib/python3.7/site-packages (from requests[socks]>=2.11.1->tweepy) (4.0.0)\n",
      "Requirement already satisfied: idna<3,>=2.5 in /usr/local/lib/python3.7/site-packages (from requests[socks]>=2.11.1->tweepy) (2.10)\n",
      "Requirement already satisfied: urllib3<1.27,>=1.21.1 in /usr/local/lib/python3.7/site-packages (from requests[socks]>=2.11.1->tweepy) (1.26.4)\n",
      "Requirement already satisfied: PySocks!=1.5.7,>=1.5.6; extra == \"socks\" in /usr/local/lib/python3.7/site-packages (from requests[socks]>=2.11.1->tweepy) (1.7.1)\n",
      "Requirement already satisfied: oauthlib>=3.0.0 in /usr/local/lib/python3.7/site-packages (from requests-oauthlib>=0.7.0->tweepy) (3.1.0)\n",
      "\u001b[33mWARNING: You are using pip version 20.0.2; however, version 21.0.1 is available.\n",
      "You should consider upgrading via the '/usr/local/bin/python -m pip install --upgrade pip' command.\u001b[0m\n",
      "Requirement already satisfied: numpy in /usr/local/lib/python3.7/site-packages (1.20.1)\n",
      "\u001b[33mWARNING: You are using pip version 20.0.2; however, version 21.0.1 is available.\n",
      "You should consider upgrading via the '/usr/local/bin/python -m pip install --upgrade pip' command.\u001b[0m\n",
      "Requirement already satisfied: pandas in /usr/local/lib/python3.7/site-packages (1.2.3)\n",
      "Requirement already satisfied: pytz>=2017.3 in /usr/local/lib/python3.7/site-packages (from pandas) (2021.1)\n",
      "Requirement already satisfied: numpy>=1.16.5 in /usr/local/lib/python3.7/site-packages (from pandas) (1.20.1)\n",
      "Requirement already satisfied: python-dateutil>=2.7.3 in /usr/local/lib/python3.7/site-packages (from pandas) (2.8.1)\n",
      "Requirement already satisfied: six>=1.5 in /usr/local/lib/python3.7/site-packages (from python-dateutil>=2.7.3->pandas) (1.15.0)\n",
      "\u001b[33mWARNING: You are using pip version 20.0.2; however, version 21.0.1 is available.\n",
      "You should consider upgrading via the '/usr/local/bin/python -m pip install --upgrade pip' command.\u001b[0m\n",
      "Requirement already satisfied: torch in /usr/local/lib/python3.7/site-packages (1.8.1)\n",
      "Requirement already satisfied: numpy in /usr/local/lib/python3.7/site-packages (from torch) (1.20.1)\n",
      "Requirement already satisfied: typing-extensions in /usr/local/lib/python3.7/site-packages (from torch) (3.7.4.3)\n",
      "\u001b[33mWARNING: You are using pip version 20.0.2; however, version 21.0.1 is available.\n",
      "You should consider upgrading via the '/usr/local/bin/python -m pip install --upgrade pip' command.\u001b[0m\n"
     ]
    }
   ],
   "source": [
    "! pip install tweepy\n",
    "! pip install numpy\n",
    "! pip install pandas\n",
    "! pip install torch"
   ]
  },
  {
   "cell_type": "code",
   "execution_count": 56,
   "id": "important-uncertainty",
   "metadata": {},
   "outputs": [
    {
     "name": "stdout",
     "output_type": "stream",
     "text": [
      "Collecting detoxify\n",
      "  Using cached detoxify-0.2.2-py3-none-any.whl (11 kB)\n",
      "Collecting sentencepiece>=0.1.94\n",
      "  Downloading sentencepiece-0.1.95-cp37-cp37m-manylinux2014_x86_64.whl (1.2 MB)\n",
      "\u001b[K     |████████████████████████████████| 1.2 MB 410 kB/s eta 0:00:01\n",
      "\u001b[?25hCollecting torch>=1.7.0\n",
      "  Downloading torch-1.8.1-cp37-cp37m-manylinux1_x86_64.whl (804.1 MB)\n",
      "\u001b[K     |████████████████████████████████| 804.1 MB 2.4 kB/s eta 0:00:01    |█                               | 22.7 MB 1.7 MB/s eta 0:07:38     |██▎                             | 56.1 MB 2.1 MB/s eta 0:05:57     |███▏                            | 78.4 MB 2.1 MB/s eta 0:05:51     |████████▊                       | 220.1 MB 2.5 MB/s eta 0:03:53     |██████████                      | 249.1 MB 2.5 MB/s eta 0:03:39     |███████████▉                    | 297.1 MB 2.4 MB/s eta 0:03:31     |█████████████                   | 326.2 MB 2.0 MB/s eta 0:03:58     |█████████████▊                  | 343.8 MB 2.6 MB/s eta 0:02:59     |███████████████▍                | 386.7 MB 2.5 MB/s eta 0:02:45     |████████████████▍               | 411.5 MB 1.9 MB/s eta 0:03:23     |███████████████████▎            | 485.7 MB 2.3 MB/s eta 0:02:19     |█████████████████████▏          | 531.5 MB 1.8 MB/s eta 0:02:28     |██████████████████████▍         | 562.8 MB 1.9 MB/s eta 0:02:09     |███████████████████████▏        | 583.3 MB 2.6 MB/s eta 0:01:27     |████████████████████████        | 605.7 MB 1.9 MB/s eta 0:01:47     |████████████████████████▍       | 611.9 MB 1.9 MB/s eta 0:01:43     |█████████████████████████████▍  | 737.7 MB 2.9 MB/s eta 0:00:24     |██████████████████████████████▎ | 760.2 MB 2.1 MB/s eta 0:00:22\n",
      "\u001b[?25hCollecting transformers>=3.2.0\n",
      "  Downloading transformers-4.4.2-py3-none-any.whl (2.0 MB)\n",
      "\u001b[K     |████████████████████████████████| 2.0 MB 430 kB/s eta 0:00:01\n",
      "\u001b[?25hRequirement already satisfied: numpy in /usr/local/lib/python3.7/site-packages (from torch>=1.7.0->detoxify) (1.20.1)\n",
      "Requirement already satisfied: typing-extensions in /usr/local/lib/python3.7/site-packages (from torch>=1.7.0->detoxify) (3.7.4.3)\n",
      "Requirement already satisfied: packaging in /usr/local/lib/python3.7/site-packages (from transformers>=3.2.0->detoxify) (20.9)\n",
      "Collecting sacremoses\n",
      "  Downloading sacremoses-0.0.43.tar.gz (883 kB)\n",
      "\u001b[K     |████████████████████████████████| 883 kB 439 kB/s eta 0:00:01\n",
      "\u001b[?25hRequirement already satisfied: importlib-metadata; python_version < \"3.8\" in /usr/local/lib/python3.7/site-packages (from transformers>=3.2.0->detoxify) (3.7.3)\n",
      "Requirement already satisfied: requests in /usr/local/lib/python3.7/site-packages (from transformers>=3.2.0->detoxify) (2.25.1)\n",
      "Collecting tqdm>=4.27\n",
      "  Downloading tqdm-4.59.0-py2.py3-none-any.whl (74 kB)\n",
      "\u001b[K     |████████████████████████████████| 74 kB 1.5 MB/s eta 0:00:01\n",
      "\u001b[?25hCollecting tokenizers<0.11,>=0.10.1\n",
      "  Downloading tokenizers-0.10.1-cp37-cp37m-manylinux2010_x86_64.whl (3.2 MB)\n",
      "\u001b[K     |████████████████████████████████| 3.2 MB 2.1 MB/s eta 0:00:01\n",
      "\u001b[?25hRequirement already satisfied: regex!=2019.12.17 in /usr/local/lib/python3.7/site-packages (from transformers>=3.2.0->detoxify) (2021.3.17)\n",
      "Collecting filelock\n",
      "  Downloading filelock-3.0.12-py3-none-any.whl (7.6 kB)\n",
      "Requirement already satisfied: pyparsing>=2.0.2 in /usr/local/lib/python3.7/site-packages (from packaging->transformers>=3.2.0->detoxify) (2.4.7)\n",
      "Requirement already satisfied: six in /usr/local/lib/python3.7/site-packages (from sacremoses->transformers>=3.2.0->detoxify) (1.15.0)\n",
      "Requirement already satisfied: click in /usr/local/lib/python3.7/site-packages (from sacremoses->transformers>=3.2.0->detoxify) (7.1.2)\n",
      "Collecting joblib\n",
      "  Downloading joblib-1.0.1-py3-none-any.whl (303 kB)\n",
      "\u001b[K     |████████████████████████████████| 303 kB 1.5 MB/s eta 0:00:01\n",
      "\u001b[?25hRequirement already satisfied: zipp>=0.5 in /usr/local/lib/python3.7/site-packages (from importlib-metadata; python_version < \"3.8\"->transformers>=3.2.0->detoxify) (3.4.1)\n",
      "Requirement already satisfied: idna<3,>=2.5 in /usr/local/lib/python3.7/site-packages (from requests->transformers>=3.2.0->detoxify) (2.10)\n",
      "Requirement already satisfied: urllib3<1.27,>=1.21.1 in /usr/local/lib/python3.7/site-packages (from requests->transformers>=3.2.0->detoxify) (1.26.4)\n",
      "Requirement already satisfied: chardet<5,>=3.0.2 in /usr/local/lib/python3.7/site-packages (from requests->transformers>=3.2.0->detoxify) (4.0.0)\n",
      "Requirement already satisfied: certifi>=2017.4.17 in /usr/local/lib/python3.7/site-packages (from requests->transformers>=3.2.0->detoxify) (2020.12.5)\n",
      "Building wheels for collected packages: sacremoses\n",
      "  Building wheel for sacremoses (setup.py) ... \u001b[?25ldone\n",
      "\u001b[?25h  Created wheel for sacremoses: filename=sacremoses-0.0.43-py3-none-any.whl size=893259 sha256=9b890b0709b722b28102c785f25bc25648e2060cca96e3deb444be1523ec5dee\n",
      "  Stored in directory: /root/.cache/pip/wheels/69/09/d1/bf058f7d6fa0ecba2ce7c66be3b8d012beb4bf61a6e0c101c0\n",
      "Successfully built sacremoses\n",
      "Installing collected packages: sentencepiece, torch, joblib, tqdm, sacremoses, tokenizers, filelock, transformers, detoxify\n",
      "Successfully installed detoxify-0.2.2 filelock-3.0.12 joblib-1.0.1 sacremoses-0.0.43 sentencepiece-0.1.95 tokenizers-0.10.1 torch-1.8.1 tqdm-4.59.0 transformers-4.4.2\n",
      "\u001b[33mWARNING: You are using pip version 20.0.2; however, version 21.0.1 is available.\n",
      "You should consider upgrading via the '/usr/local/bin/python -m pip install --upgrade pip' command.\u001b[0m\n"
     ]
    }
   ],
   "source": [
    "! pip install detoxify"
   ]
  },
  {
   "cell_type": "code",
   "execution_count": 27,
   "id": "generous-documentation",
   "metadata": {},
   "outputs": [],
   "source": [
    "import os\n",
    "import re\n",
    "import tweepy\n",
    "import numpy as np\n",
    "import pandas as pd"
   ]
  },
  {
   "cell_type": "code",
   "execution_count": 7,
   "id": "proper-shirt",
   "metadata": {},
   "outputs": [],
   "source": [
    "from detoxify import Detoxify"
   ]
  },
  {
   "cell_type": "code",
   "execution_count": 8,
   "id": "silver-soviet",
   "metadata": {},
   "outputs": [],
   "source": [
    "TWITTER_API_KEY = os.environ.get('TWITTER_API_KEY')\n",
    "TWITTER_API_SECRET = os.environ.get('TWITTER_API_SECRET')"
   ]
  },
  {
   "cell_type": "code",
   "execution_count": 9,
   "id": "coordinate-shepherd",
   "metadata": {},
   "outputs": [],
   "source": [
    "auth = tweepy.OAuthHandler(TWITTER_API_KEY, TWITTER_API_SECRET)"
   ]
  },
  {
   "cell_type": "code",
   "execution_count": 10,
   "id": "prepared-china",
   "metadata": {},
   "outputs": [],
   "source": [
    "api = tweepy.API(auth)"
   ]
  },
  {
   "cell_type": "code",
   "execution_count": 11,
   "id": "signal-innocent",
   "metadata": {},
   "outputs": [],
   "source": [
    "tp = api.get_user('franciscojarceo')"
   ]
  },
  {
   "cell_type": "code",
   "execution_count": 12,
   "id": "specified-therapy",
   "metadata": {
    "tags": []
   },
   "outputs": [
    {
     "data": {
      "text/plain": [
       "'Francisco Javier Arceo'"
      ]
     },
     "execution_count": 12,
     "metadata": {},
     "output_type": "execute_result"
    }
   ],
   "source": [
    "tp._json['name']"
   ]
  },
  {
   "cell_type": "code",
   "execution_count": 13,
   "id": "intelligent-entry",
   "metadata": {},
   "outputs": [],
   "source": [
    "def get_all_tweets(screen_name):\n",
    "    #initialize a list to hold all the tweepy Tweets\n",
    "    alltweets = []  \n",
    "\n",
    "    #make initial request for most recent tweets (200 is the maximum allowed count)\n",
    "    new_tweets = api.user_timeline(screen_name = screen_name, count=200)\n",
    "\n",
    "    #save most recent tweets\n",
    "    alltweets.extend(new_tweets)\n",
    "\n",
    "    #save the id of the oldest tweet less one\n",
    "    oldest = alltweets[-1].id - 1\n",
    "\n",
    "    #keep grabbing tweets until there are no tweets left to grab\n",
    "    while len(new_tweets) > 0:\n",
    "        print(f\"getting tweets before {oldest}\")\n",
    "        #all subsiquent requests use the max_id param to prevent duplicates\n",
    "        new_tweets = api.user_timeline(screen_name = screen_name,count=200, max_id=oldest)\n",
    "        #save most recent tweets\n",
    "        alltweets.extend(new_tweets)\n",
    "        #update the id of the oldest tweet less one\n",
    "        oldest = alltweets[-1].id - 1\n",
    "        print(f\"...{len(alltweets)} tweets downloaded so far\")\n",
    "\n",
    "    return alltweets"
   ]
  },
  {
   "cell_type": "code",
   "execution_count": 14,
   "id": "controlling-cleveland",
   "metadata": {},
   "outputs": [
    {
     "name": "stdout",
     "output_type": "stream",
     "text": [
      "getting tweets before 1370572974085058559\n",
      "...396 tweets downloaded so far\n",
      "getting tweets before 1366097134504796163\n",
      "...596 tweets downloaded so far\n",
      "getting tweets before 1362465423136972800\n",
      "...795 tweets downloaded so far\n",
      "getting tweets before 1359208814202019841\n",
      "...994 tweets downloaded so far\n",
      "getting tweets before 1356630343391002623\n",
      "...1193 tweets downloaded so far\n",
      "getting tweets before 1354471901167554566\n",
      "...1393 tweets downloaded so far\n",
      "getting tweets before 1352590445164027906\n",
      "...1592 tweets downloaded so far\n",
      "getting tweets before 1351252276078374911\n",
      "...1791 tweets downloaded so far\n",
      "getting tweets before 1349203559301193727\n",
      "...1990 tweets downloaded so far\n",
      "getting tweets before 1347691286174822402\n",
      "...2189 tweets downloaded so far\n",
      "getting tweets before 1345232393666490368\n",
      "...2389 tweets downloaded so far\n",
      "getting tweets before 1342152007289774080\n",
      "...2589 tweets downloaded so far\n",
      "getting tweets before 1340520723949842436\n",
      "...2789 tweets downloaded so far\n",
      "getting tweets before 1338632496678768639\n",
      "...2989 tweets downloaded so far\n",
      "getting tweets before 1335615033217220607\n",
      "...3189 tweets downloaded so far\n",
      "getting tweets before 1333396868982738944\n",
      "...3237 tweets downloaded so far\n",
      "getting tweets before 1332489376530460671\n",
      "...3237 tweets downloaded so far\n"
     ]
    }
   ],
   "source": [
    "mytweets = get_all_tweets('franciscojarceo')"
   ]
  },
  {
   "cell_type": "code",
   "execution_count": 15,
   "id": "decreased-founder",
   "metadata": {},
   "outputs": [],
   "source": [
    "mytweets[2]._json['in_reply_to_status_id']"
   ]
  },
  {
   "cell_type": "code",
   "execution_count": 16,
   "id": "atlantic-trash",
   "metadata": {},
   "outputs": [],
   "source": [
    "mytweets[1]._json['in_reply_to_status_id']"
   ]
  },
  {
   "cell_type": "code",
   "execution_count": 17,
   "id": "frank-gardening",
   "metadata": {},
   "outputs": [
    {
     "data": {
      "text/plain": [
       "1378724057357578243"
      ]
     },
     "execution_count": 17,
     "metadata": {},
     "output_type": "execute_result"
    }
   ],
   "source": [
    "mytweets[1]._json['id'] #['text']"
   ]
  },
  {
   "cell_type": "code",
   "execution_count": 18,
   "id": "wrapped-broadcasting",
   "metadata": {},
   "outputs": [
    {
     "data": {
      "text/plain": [
       "True"
      ]
     },
     "execution_count": 18,
     "metadata": {},
     "output_type": "execute_result"
    }
   ],
   "source": [
    "'in_reply_to_status_id' in mytweets[1]._json"
   ]
  },
  {
   "cell_type": "code",
   "execution_count": 81,
   "id": "incredible-reaction",
   "metadata": {},
   "outputs": [],
   "source": [
    "def clean_tweet(x):\n",
    "    try:\n",
    "        clean = re.sub(\"@[A-Za-z0-9_]+\",\"\", x).strip()\n",
    "        replytweet = re.match('… https://t.co/*', clean)\n",
    "        if replytweet is not None:\n",
    "            if replytweet.end() > 0:\n",
    "                return None\n",
    "        return clean\n",
    "    except Exception as e:\n",
    "        print(e)\n",
    "        return x"
   ]
  },
  {
   "cell_type": "code",
   "execution_count": 82,
   "id": "boolean-pollution",
   "metadata": {},
   "outputs": [],
   "source": [
    "res = []\n",
    "tweeters = []\n",
    "preds = []\n",
    "for i in mytweets:\n",
    "    if i._json['in_reply_to_status_id'] is not None:\n",
    "        res.append((i._json['id'], i._json['text']))\n",
    "        cleaned = clean_tweet(i._json['text'])\n",
    "        prediction = [{} if cleaned is None else Detoxify('original').predict(cleaned)]\n",
    "        tweeters.append(prediction)\n",
    "        "
   ]
  },
  {
   "cell_type": "code",
   "execution_count": 85,
   "id": "constitutional-sperm",
   "metadata": {},
   "outputs": [
    {
     "data": {
      "text/plain": [
       "[None,\n",
       " None,\n",
       " None,\n",
       " 'Chinese BBQ pork!!! Wife made this too. 🤤🤤🤤 https://t.co/7XUAZ64JJj']"
      ]
     },
     "execution_count": 85,
     "metadata": {},
     "output_type": "execute_result"
    }
   ],
   "source": [
    "tweeters[0:4]"
   ]
  },
  {
   "cell_type": "code",
   "execution_count": 86,
   "id": "hollow-oxygen",
   "metadata": {},
   "outputs": [
    {
     "data": {
      "text/plain": [
       "(1378516199642779650,\n",
       " '@IsaiBCortez @cisco_iz @Eliana_Murillo @BuildwithJoy @EuniceCancino @NickGonzalez__ @mostwestcoastt @callmejohnnie… https://t.co/XmDz7nNZbG')"
      ]
     },
     "execution_count": 86,
     "metadata": {},
     "output_type": "execute_result"
    }
   ],
   "source": [
    "res[0]"
   ]
  },
  {
   "cell_type": "code",
   "execution_count": null,
   "id": "aware-justice",
   "metadata": {},
   "outputs": [],
   "source": [
    "for i in tweeters"
   ]
  },
  {
   "cell_type": "code",
   "execution_count": 87,
   "id": "cathedral-offer",
   "metadata": {},
   "outputs": [],
   "source": [
    "results = Detoxify('original').predict('test')"
   ]
  },
  {
   "cell_type": "code",
   "execution_count": null,
   "id": "technological-croatia",
   "metadata": {},
   "outputs": [],
   "source": [
    "results"
   ]
  }
 ],
 "metadata": {
  "kernelspec": {
   "display_name": "Python 3",
   "language": "python",
   "name": "python3"
  },
  "language_info": {
   "codemirror_mode": {
    "name": "ipython",
    "version": 3
   },
   "file_extension": ".py",
   "mimetype": "text/x-python",
   "name": "python",
   "nbconvert_exporter": "python",
   "pygments_lexer": "ipython3",
   "version": "3.7.7"
  }
 },
 "nbformat": 4,
 "nbformat_minor": 5
}
